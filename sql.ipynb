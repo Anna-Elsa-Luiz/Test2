{
 "cells": [
  {
   "cell_type": "markdown",
   "metadata": {},
   "source": [
    "# Question 1 "
   ]
  },
  {
   "cell_type": "markdown",
   "metadata": {},
   "source": [
    "It will return the details corresponding to the ids 1 , 4 and 5 from runners table.\n",
    "\n",
    "\n",
    "SELECT r.id, r.name FROM runners r LEFT JOIN races ra ON r.id = ra.winner_id WHERE ra.winner_id IS NULL;"
   ]
  },
  {
   "cell_type": "markdown",
   "metadata": {},
   "source": [
    "# Question 2"
   ]
  },
  {
   "cell_type": "markdown",
   "metadata": {},
   "source": [
    "SELECT id FROM test_a a WHERE (SELECT COUNT(*) FROM test_b b WHERE b.id = a.id) = 0;"
   ]
  },
  {
   "cell_type": "markdown",
   "metadata": {},
   "source": [
    "# Question 3"
   ]
  },
  {
   "cell_type": "markdown",
   "metadata": {},
   "source": [
    "SELECT u.user_id, username, training_id, training_date \n",
    "\n",
    "FROM users\n",
    "\n",
    "INNER JOIN \n",
    "\n",
    "( SELECT user_id, training_id, training_date, COUNT(*) AS count \n",
    "FROM training_details\n",
    "\n",
    "GROUP BY user_id, training_id, training_date \n",
    "\n",
    "HAVING COUNT(*) > 1 ) \n",
    "\n",
    "AS t ON u.user_id = t.user_id \n",
    "ORDER BY t.user_id, t.training_id, t.training_date DESC;"
   ]
  },
  {
   "cell_type": "markdown",
   "metadata": {},
   "source": [
    "# Question 4"
   ]
  },
  {
   "cell_type": "markdown",
   "metadata": {},
   "source": []
  },
  {
   "cell_type": "markdown",
   "metadata": {},
   "source": []
  }
 ],
 "metadata": {
  "language_info": {
   "name": "python"
  }
 },
 "nbformat": 4,
 "nbformat_minor": 2
}
