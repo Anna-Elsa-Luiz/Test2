{
 "cells": [
  {
   "cell_type": "markdown",
   "metadata": {},
   "source": [
    "# Question 1 "
   ]
  },
  {
   "cell_type": "markdown",
   "metadata": {},
   "source": [
    "\n",
    "a) \n",
    "\n",
    "Deep Learning (DL) is a powerful technology used to develop intelligent solutions and solve complex problems across various industries. Implementing DL in real-world applications involves several key steps:\n",
    "\n",
    "\n",
    "1.Problem Definition and Data Acquisition:\n",
    "\n",
    "Clearly identify the real-world problem you want to solve, such as image classification (medical diagnosis), speech recognition (virtual assistants), natural language processing (machine translation), or time series forecasting (stock market prediction).\n",
    "Gather a large, high-quality dataset relevant to your problem. The dataset should be well-labeled and representative of real-world scenarios.\n",
    "\n",
    "2. Model Selection and Architecture Design:\n",
    "\n",
    "Choose a suitable deep learning architecture based on your problem type. Popular choices include Convolutional Neural Networks (CNNs) for image-based tasks, Recurrent Neural Networks (RNNs) for sequential data like text, and transformers for natural language processing.\n",
    "Design the model architecture, specifying the number of layers, neurons per layer, and connection patterns. Consider factors like the complexity of the problem and available computational resources.\n",
    "\n",
    "3.Data Preprocessing and Feature Engineering:\n",
    "\n",
    "Clean and preprocess your data to address issues like missing values, outliers, and inconsistencies. This often involves normalization or standardization.\n",
    "For some applications, feature engineering might be necessary to extract or create more meaningful features from the raw data to enhance model performance.\n",
    "\n",
    "3. Model Training and Hyperparameter Tuning:\n",
    "\n",
    "Split your data into training, validation, and testing sets. The training set is used to train the model, the validation set is used to adjust hyperparameters, and the testing set is used for final evaluation of the model's performance on unseen data.\n",
    "Train the model on the training set using an appropriate optimizer (like Adam or SGD) and loss function (like cross-entropy for classification or mean squared error for regression).\n",
    "Hyperparameter tuning involves adjusting parameters like learning rate, batch size, and the number of epochs to optimize model performance. You can use techniques like grid search or random search for this.\n",
    "\n",
    "4. Model Evaluation and Deployment:\n",
    "\n",
    "Evaluate the model's performance on the testing set using metrics relevant to your problem, such as accuracy for classification tasks or mean squared error for regression.\n",
    "If the performance is satisfactory, deploy the model in a real-world setting. This might involve integrating it into an existing application, creating a web service, or deploying it on a mobile device.\n",
    "Continuously monitor the model's performance in production and retrain it if necessary with new data or when its performance degrades.\n",
    "\n",
    "\n",
    "b) \n",
    "\n",
    "Activation Functions in Artificial Neural Networks (ANNs)\n",
    "\n",
    "Activation functions are essential components of ANNs that introduce non-linearity into the network. Without them, ANNs would simply be linear regression models, incapable of learning complex patterns. They determine how a neuron transforms the weighted sum of its inputs.\n",
    "\n",
    "\n",
    "Non-linearity: Linear regression models can only learn linear relationships between features and the target variable. Activation functions introduce non-linearity, allowing ANNs to learn complex patterns and model non-linear relationships. This is crucial for many real-world tasks.\n",
    "Hidden Layer Representation: Activation functions enable hidden layers in ANNs to learn more complex representations of the input data by applying non-linear transformations. This allows the network to extract features at increasing levels of abstraction, leading to better model performance.\n",
    "Gradient Propagation: Activation functions are differentiable (have well-defined gradients), which is essential for backpropagation. Backpropagation is the training algorithm used in ANNs to learn optimal weights by calculating the gradients of the loss function and updating weights in the opposite direction.\n"
   ]
  },
  {
   "cell_type": "markdown",
   "metadata": {},
   "source": [
    "# Question 2 "
   ]
  },
  {
   "cell_type": "markdown",
   "metadata": {},
   "source": []
  }
 ],
 "metadata": {
  "language_info": {
   "name": "python"
  }
 },
 "nbformat": 4,
 "nbformat_minor": 2
}
